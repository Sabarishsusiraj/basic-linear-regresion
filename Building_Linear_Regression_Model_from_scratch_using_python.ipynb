{
  "nbformat": 4,
  "nbformat_minor": 0,
  "metadata": {
    "colab": {
      "name": "Building Linear Regression Model from scratch using python",
      "provenance": [],
      "collapsed_sections": [],
      "authorship_tag": "ABX9TyPGRbq7etIFbDWMnveAx/r2",
      "include_colab_link": true
    },
    "kernelspec": {
      "name": "python3",
      "display_name": "Python 3"
    },
    "language_info": {
      "name": "python"
    }
  },
  "cells": [
    {
      "cell_type": "markdown",
      "metadata": {
        "id": "view-in-github",
        "colab_type": "text"
      },
      "source": [
        "<a href=\"https://colab.research.google.com/github/Sabarishsusiraj/basic-linear-regresion/blob/main/Building_Linear_Regression_Model_from_scratch_using_python.ipynb\" target=\"_parent\"><img src=\"https://colab.research.google.com/assets/colab-badge.svg\" alt=\"Open In Colab\"/></a>"
      ]
    },
    {
      "cell_type": "code",
      "execution_count": null,
      "metadata": {
        "id": "Q6AzPafpE169"
      },
      "outputs": [],
      "source": [
        "import numpy as np\n",
        "import pandas as pd\n",
        "import matplotlib.pyplot as plt\n"
      ]
    },
    {
      "cell_type": "code",
      "source": [
        "class Linear_Regression:\n",
        "  def __init__(self,learning_rate,no_of_iterations):\n",
        "    self.learning_rate=learning_rate\n",
        "    self.no_of_iterations=no_of_iterations\n",
        "  def fit(self,X,Y):\n",
        "    self.m,self.n=X.shape\n",
        "    self.w=np.zeros(self.n)\n",
        "    self.b=0\n",
        "    self.X=X\n",
        "    self.Y=Y\n",
        "    for i in range(self.no_of_iterations):\n",
        "      self.update_weights()\n",
        "  def update_weights(self):\n",
        "    y_predicted=self.predict(self.X)\n",
        "    dw=-(2*(self.X.T).dot(self.Y-y_predicted))/self.m\n",
        "    db=-2*np.sum(self.Y-y_predicted)/self.m\n",
        "    self.w=self.w-self.learning_rate*(dw)\n",
        "    self.b=self.b-self.learning_rate*(db)\n",
        "  def predict(self,X):\n",
        "    return X.dot(self.w)+self.b\n"
      ],
      "metadata": {
        "id": "YGJk4p3JF0rY"
      },
      "execution_count": null,
      "outputs": []
    },
    {
      "cell_type": "code",
      "source": [
        "from sklearn.model_selection import train_test_split"
      ],
      "metadata": {
        "id": "B5nerXqeF086"
      },
      "execution_count": null,
      "outputs": []
    },
    {
      "cell_type": "code",
      "source": [
        "salary_data=pd.read_csv(\"/content/salary_data.csv\")"
      ],
      "metadata": {
        "id": "oTMP-z8AF1Ju"
      },
      "execution_count": null,
      "outputs": []
    },
    {
      "cell_type": "code",
      "source": [
        "print(salary_data.head(10))"
      ],
      "metadata": {
        "colab": {
          "base_uri": "https://localhost:8080/"
        },
        "id": "ycErTRvQF1VR",
        "outputId": "ff5fcde1-259c-4202-d24c-311b531ba5bb"
      },
      "execution_count": null,
      "outputs": [
        {
          "output_type": "stream",
          "name": "stdout",
          "text": [
            "   YearsExperience  Salary\n",
            "0              1.1   39343\n",
            "1              1.3   46205\n",
            "2              1.5   37731\n",
            "3              2.0   43525\n",
            "4              2.2   39891\n",
            "5              2.9   56642\n",
            "6              3.0   60150\n",
            "7              3.2   54445\n",
            "8              3.2   64445\n",
            "9              3.7   57189\n"
          ]
        }
      ]
    },
    {
      "cell_type": "code",
      "source": [
        "salary_data.isnull().sum()"
      ],
      "metadata": {
        "colab": {
          "base_uri": "https://localhost:8080/"
        },
        "id": "_90NIHU0X4HW",
        "outputId": "371a9093-ec34-4bc7-8f29-0a6f735994b5"
      },
      "execution_count": null,
      "outputs": [
        {
          "output_type": "execute_result",
          "data": {
            "text/plain": [
              "YearsExperience    0\n",
              "Salary             0\n",
              "dtype: int64"
            ]
          },
          "metadata": {},
          "execution_count": 9
        }
      ]
    },
    {
      "cell_type": "code",
      "source": [
        "salary_data.isnull().any()"
      ],
      "metadata": {
        "colab": {
          "base_uri": "https://localhost:8080/"
        },
        "id": "ROuXF4BLlStN",
        "outputId": "f9548c97-8b9e-44d8-d4c4-f9f2a9a6dca8"
      },
      "execution_count": null,
      "outputs": [
        {
          "output_type": "execute_result",
          "data": {
            "text/plain": [
              "YearsExperience    False\n",
              "Salary             False\n",
              "dtype: bool"
            ]
          },
          "metadata": {},
          "execution_count": 10
        }
      ]
    },
    {
      "cell_type": "code",
      "source": [
        "X=salary_data.iloc[:,:-1].values\n",
        "y=salary_data.iloc[:,-1].values"
      ],
      "metadata": {
        "id": "BdwSdAIlF1hs"
      },
      "execution_count": null,
      "outputs": []
    },
    {
      "cell_type": "code",
      "source": [
        "y"
      ],
      "metadata": {
        "colab": {
          "base_uri": "https://localhost:8080/"
        },
        "id": "1mF2XG80F1q4",
        "outputId": "36d7d909-3319-492d-eed6-cc8d1bf76444"
      },
      "execution_count": null,
      "outputs": [
        {
          "output_type": "execute_result",
          "data": {
            "text/plain": [
              "array([ 39343,  46205,  37731,  43525,  39891,  56642,  60150,  54445,\n",
              "        64445,  57189,  63218,  55794,  56957,  57081,  61111,  67938,\n",
              "        66029,  83088,  81363,  93940,  91738,  98273, 101302, 113812,\n",
              "       109431, 105582, 116969, 112635, 122391, 121872])"
            ]
          },
          "metadata": {},
          "execution_count": 12
        }
      ]
    },
    {
      "cell_type": "code",
      "source": [
        "X_train,X_test,Y_train,Y_test=train_test_split(X,y,test_size=0.2,random_state=2)"
      ],
      "metadata": {
        "id": "HRCDC8GklaOI"
      },
      "execution_count": null,
      "outputs": []
    },
    {
      "cell_type": "code",
      "source": [
        "model=Linear_Regression(0.02,2000)\n"
      ],
      "metadata": {
        "id": "dBJ1CdWVlaRh"
      },
      "execution_count": null,
      "outputs": []
    },
    {
      "cell_type": "code",
      "source": [
        "model.fit(X_train,Y_train)"
      ],
      "metadata": {
        "id": "ohLRg1RjlaU-"
      },
      "execution_count": null,
      "outputs": []
    },
    {
      "cell_type": "code",
      "source": [
        "print(model.w)\n",
        "print(model.b)"
      ],
      "metadata": {
        "colab": {
          "base_uri": "https://localhost:8080/"
        },
        "id": "eD6lVeWrlaiI",
        "outputId": "5b3290be-c9b7-44d9-c094-64b8a97004c1"
      },
      "execution_count": null,
      "outputs": [
        {
          "output_type": "stream",
          "name": "stdout",
          "text": [
            "[9569.58741261]\n",
            "24393.165451261353\n"
          ]
        }
      ]
    },
    {
      "cell_type": "code",
      "source": [
        "test_predict=model.predict(X_test)"
      ],
      "metadata": {
        "id": "V2Xw1SuIlaYu"
      },
      "execution_count": null,
      "outputs": []
    },
    {
      "cell_type": "code",
      "source": [
        "plt.scatter(X_test,Y_test,color=\"red\")\n",
        "plt.plot(X_test,test_predict,color=\"blue\")\n",
        "plt.xlabel(\"work_experience\")\n",
        "plt.ylabel(\"salary\")\n",
        "plt.title(\"salary_prediction\")"
      ],
      "metadata": {
        "id": "gTmur2wns-mR",
        "colab": {
          "base_uri": "https://localhost:8080/",
          "height": 313
        },
        "outputId": "e43d3c93-45e3-40ea-fad3-b34963dce3bf"
      },
      "execution_count": null,
      "outputs": [
        {
          "output_type": "execute_result",
          "data": {
            "text/plain": [
              "Text(0.5, 1.0, 'salary_prediction')"
            ]
          },
          "metadata": {},
          "execution_count": 26
        },
        {
          "output_type": "display_data",
          "data": {
            "image/png": "[encoded data removed]",
            "text/plain": [
              "<Figure size 432x288 with 1 Axes>"
            ]
          },
          "metadata": {
            "needs_background": "light"
          }
        }
      ]
    },
    {
      "cell_type": "code",
      "source": [
        "print(test_predict,Y_test)"
      ],
      "metadata": {
        "colab": {
          "base_uri": "https://localhost:8080/"
        },
        "id": "OVRkk5H9s-3H",
        "outputId": "4e024745-75e3-49de-8893-dc649ee49ed8"
      },
      "execution_count": null,
      "outputs": [
        {
          "output_type": "stream",
          "name": "stdout",
          "text": [
            "[36833.62908766 34919.71160514 67456.30880803 59800.63887793\n",
            " 92337.23608082 81810.68992695] [46205 39343 61111 57189 98273 93940]\n"
          ]
        }
      ]
    },
    {
      "cell_type": "code",
      "source": [
        "loss=1/model.m*np.sum(Y_test-test_predict)\n",
        "print(loss)"
      ],
      "metadata": {
        "id": "-eNKxMLUs-zf",
        "colab": {
          "base_uri": "https://localhost:8080/"
        },
        "outputId": "de29f3df-f5d3-4785-f8f4-d7f7cee54360"
      },
      "execution_count": null,
      "outputs": [
        {
          "output_type": "stream",
          "name": "stdout",
          "text": [
            "954.282733894575\n"
          ]
        }
      ]
    }
  ]
}